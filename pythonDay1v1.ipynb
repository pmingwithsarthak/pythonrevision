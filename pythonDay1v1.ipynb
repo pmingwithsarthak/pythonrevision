{
  "nbformat": 4,
  "nbformat_minor": 0,
  "metadata": {
    "colab": {
      "provenance": [],
      "authorship_tag": "ABX9TyMWMSSvHZhjRd9Zqy+Px5X2",
      "include_colab_link": true
    },
    "kernelspec": {
      "name": "python3",
      "display_name": "Python 3"
    },
    "language_info": {
      "name": "python"
    }
  },
  "cells": [
    {
      "cell_type": "markdown",
      "metadata": {
        "id": "view-in-github",
        "colab_type": "text"
      },
      "source": [
        "<a href=\"https://colab.research.google.com/github/pmingwithsarthak/pythonrevision/blob/main/pythonDay1v1.ipynb\" target=\"_parent\"><img src=\"https://colab.research.google.com/assets/colab-badge.svg\" alt=\"Open In Colab\"/></a>"
      ]
    },
    {
      "cell_type": "code",
      "execution_count": 1,
      "metadata": {
        "colab": {
          "base_uri": "https://localhost:8080/"
        },
        "id": "1TnAv_w3NgjF",
        "outputId": "922c7404-d948-411a-b7b1-c8abf692705c"
      },
      "outputs": [
        {
          "output_type": "stream",
          "name": "stdout",
          "text": [
            "Hello World\n"
          ]
        }
      ],
      "source": [
        "print(\"Hello World\")"
      ]
    },
    {
      "cell_type": "code",
      "source": [
        "!git config --global user.email \"pmingwithsarthak@gmail.com\"\n",
        "!git config --global user.name \"pmingwithsarthal\""
      ],
      "metadata": {
        "id": "-2SNrsVoPRlr"
      },
      "execution_count": 2,
      "outputs": []
    }
  ]
}